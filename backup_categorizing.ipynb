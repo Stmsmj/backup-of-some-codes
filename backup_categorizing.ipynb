{
 "cells": [
  {
   "cell_type": "code",
   "execution_count": null,
   "metadata": {},
   "outputs": [],
   "source": [
    "from tqdm import tqdm"
   ]
  },
  {
   "cell_type": "code",
   "execution_count": null,
   "metadata": {},
   "outputs": [],
   "source": [
    "# assign a diff num to each category of pics in a directory\n",
    "def str_category_to_num(DataSet , category_name , chunk):\n",
    "    iteration = len(DataSet) / chunk\n",
    "    if iteration - int(iteration) != 0:\n",
    "        iteration += 1\n",
    "    for repeat in tqdm(range(int(iteration))):\n",
    "        start = chunk * repeat\n",
    "        category_list_of_names = list(DataSet[start : start + chunk][category_name].unique())\n",
    "        if len(DataSet) > start + chunk:\n",
    "            for index in DataSet[start : start + chunk].index:\n",
    "                DataSet[start : start + chunk].loc[index , category_name] = category_list_of_names.index(DataSet[start : start + chunk].loc[index , category_name])\n",
    "        else:\n",
    "            for index in DataSet[start:].index:\n",
    "                DataSet[start : ].loc[index , category_name] = category_list_of_names.index(DataSet[start : ].loc[index , category_name])"
   ]
  }
 ],
 "metadata": {
  "language_info": {
   "name": "python"
  },
  "orig_nbformat": 4
 },
 "nbformat": 4,
 "nbformat_minor": 2
}
